{
 "cells": [
  {
   "cell_type": "code",
   "execution_count": 2,
   "id": "33652af6",
   "metadata": {
    "_cell_guid": "b1076dfc-b9ad-4769-8c92-a6c4dae69d19",
    "_uuid": "8f2839f25d086af736a60e9eeb907d3b93b6e0e5",
    "execution": {
     "iopub.execute_input": "2022-02-14T10:04:48.130304Z",
     "iopub.status.busy": "2022-02-14T10:04:48.128966Z",
     "iopub.status.idle": "2022-02-14T10:04:51.520041Z",
     "shell.execute_reply": "2022-02-14T10:04:51.519261Z",
     "shell.execute_reply.started": "2022-02-14T09:54:45.328365Z"
    },
    "papermill": {
     "duration": 3.435978,
     "end_time": "2022-02-14T10:04:51.520223",
     "exception": false,
     "start_time": "2022-02-14T10:04:48.084245",
     "status": "completed"
    },
    "tags": []
   },
   "outputs": [],
   "source": [
    "import os\n",
    "import sys\n",
    "import glob\n",
    "\n",
    "import numpy as np\n",
    "import pandas as pd\n",
    "\n",
    "import matplotlib.pylab as plt\n",
    "import seaborn as sns\n",
    "\n",
    "from tqdm import tqdm\n",
    "from itertools import cycle\n",
    "\n",
    "from scipy import stats\n",
    "from sklearn.metrics import mean_absolute_error as mae\n",
    "\n",
    "from sklearn import metrics\n",
    "from sklearn import model_selection\n",
    "from sklearn import preprocessing\n",
    "from sklearn import linear_model\n",
    "from sklearn import ensemble\n",
    "from sklearn import decomposition\n",
    "from sklearn import tree\n",
    "from sklearn import svm\n",
    "import category_encoders as ce\n",
    "\n",
    "import lightgbm as lgb\n",
    "import xgboost as xgb\n",
    "import catboost as cat\n",
    "\n",
    "pd.set_option(\"display.max_columns\", None)\n",
    "\n",
    "plt.style.use(\"ggplot\")\n",
    "color_pal = plt.rcParams[\"axes.prop_cycle\"].by_key()[\"color\"]\n",
    "color_cycle = cycle(plt.rcParams[\"axes.prop_cycle\"].by_key()[\"color\"])\n",
    "\n",
    "import warnings\n",
    "warnings.filterwarnings('ignore')"
   ]
  },
  {
   "cell_type": "code",
   "execution_count": 4,
   "id": "449962dc",
   "metadata": {
    "execution": {
     "iopub.execute_input": "2022-02-14T10:04:51.599085Z",
     "iopub.status.busy": "2022-02-14T10:04:51.598304Z",
     "iopub.status.idle": "2022-02-14T10:04:51.603365Z",
     "shell.execute_reply": "2022-02-14T10:04:51.604070Z",
     "shell.execute_reply.started": "2022-02-14T09:54:45.505745Z"
    },
    "papermill": {
     "duration": 0.044622,
     "end_time": "2022-02-14T10:04:51.604314",
     "exception": false,
     "start_time": "2022-02-14T10:04:51.559692",
     "status": "completed"
    },
    "tags": []
   },
   "outputs": [],
   "source": [
    "INPUT_PATH = \"../input\"\n",
    "OUTPUT_PATH = \"./\""
   ]
  },
  {
   "cell_type": "code",
   "execution_count": 5,
   "id": "7f7506e6",
   "metadata": {
    "execution": {
     "iopub.execute_input": "2022-02-14T10:04:51.683003Z",
     "iopub.status.busy": "2022-02-14T10:04:51.682232Z",
     "iopub.status.idle": "2022-02-14T10:04:52.514433Z",
     "shell.execute_reply": "2022-02-14T10:04:52.513677Z",
     "shell.execute_reply.started": "2022-02-14T09:54:45.766657Z"
    },
    "papermill": {
     "duration": 0.874174,
     "end_time": "2022-02-14T10:04:52.514595",
     "exception": false,
     "start_time": "2022-02-14T10:04:51.640421",
     "status": "completed"
    },
    "tags": []
   },
   "outputs": [
    {
     "data": {
      "text/plain": [
       "((175200, 18), (17520, 18), (17520, 3))"
      ]
     },
     "execution_count": 5,
     "metadata": {},
     "output_type": "execute_result"
    }
   ],
   "source": [
    "train_df = pd.read_csv(f\"{INPUT_PATH}/train.csv\")\n",
    "test_df = pd.read_csv(f\"{INPUT_PATH}/test.csv\")\n",
    "ss_df = pd.read_csv(f\"{INPUT_PATH}/sample_submission.csv\")\n",
    "\n",
    "#train_df = train_df.apply(lambda x: \"_\".join(x.astype(str).str.lower().split(' ')))\n",
    "train_df.columns = ['_'.join(col.lower().split()) for col in train_df.columns.values]\n",
    "test_df.columns = ['_'.join(col.lower().split()) for col in test_df.columns.values]\n",
    "\n",
    "train_df = train_df[~((train_df['month'] == 2) & (train_df['day'] == 29))].reset_index(drop=True)\n",
    "train_df['cloud_type'] = train_df['cloud_type'].replace({10:np.nan}).fillna(method=\"ffill\")\n",
    "\n",
    "train_df['fill_flag'] = train_df['fill_flag'].apply(lambda x: x if x in [0, 1, 3, 4] else 0)\n",
    "test_df['fill_flag'] = test_df['fill_flag'].apply(lambda x: x if x in [0, 1, 3, 4] else 0)\n",
    "\n",
    "tmp_train_df = train_df[~train_df.hour.isin([i for i in range(1, 11)])]\n",
    "\n",
    "train_df.shape, test_df.shape, ss_df.shape"
   ]
  },
  {
   "cell_type": "code",
   "execution_count": 6,
   "id": "4765e51a",
   "metadata": {
    "execution": {
     "iopub.execute_input": "2022-02-14T10:04:52.594870Z",
     "iopub.status.busy": "2022-02-14T10:04:52.592783Z",
     "iopub.status.idle": "2022-02-14T10:04:52.608611Z",
     "shell.execute_reply": "2022-02-14T10:04:52.609180Z",
     "shell.execute_reply.started": "2022-02-14T09:54:46.332211Z"
    },
    "papermill": {
     "duration": 0.056534,
     "end_time": "2022-02-14T10:04:52.609378",
     "exception": false,
     "start_time": "2022-02-14T10:04:52.552844",
     "status": "completed"
    },
    "tags": []
   },
   "outputs": [],
   "source": [
    "tmp_test_df = train_df.copy()"
   ]
  },
  {
   "cell_type": "code",
   "execution_count": 7,
   "id": "f13409c7",
   "metadata": {
    "execution": {
     "iopub.execute_input": "2022-02-14T10:04:52.691050Z",
     "iopub.status.busy": "2022-02-14T10:04:52.690204Z",
     "iopub.status.idle": "2022-02-14T10:04:53.061288Z",
     "shell.execute_reply": "2022-02-14T10:04:53.060675Z",
     "shell.execute_reply.started": "2022-02-14T09:54:46.347740Z"
    },
    "papermill": {
     "duration": 0.415007,
     "end_time": "2022-02-14T10:04:53.061479",
     "exception": false,
     "start_time": "2022-02-14T10:04:52.646472",
     "status": "completed"
    },
    "tags": []
   },
   "outputs": [],
   "source": [
    "cat_mr_final_oofs_1 = np.load(\"weights/cat/MR_CAT_F_good_cv_586_lb_374_oofs_predict_dict.npy\", allow_pickle=True).tolist()\n",
    "cat_mr_final_oofs_2 = np.load(\"weights/cat/MR_CAT_F_good_cv_511_lb_367_oofs_predict_dict.npy\", allow_pickle=True).tolist()\n",
    "cat_mr_final_oofs_1.update(cat_mr_final_oofs_2)\n",
    "cat_mr_final_oofs = cat_mr_final_oofs_1\n",
    "\n",
    "cat_mr_final_test_1 = np.load(\"weights/cat/MR_CAT_F_good_cv_586_lb_374_test_predict_dict.npy\", allow_pickle=True).tolist()\n",
    "cat_mr_final_test_2 = np.load(\"weights/cat/MR_CAT_F_good_cv_511_lb_367_test_predict_dict.npy\", allow_pickle=True).tolist()\n",
    "cat_mr_final_test_1.update(cat_mr_final_test_2)\n",
    "cat_mr_final_test = cat_mr_final_test_1\n",
    "\n",
    "train_df[['cat_mr_clearsky_dhi', 'cat_mr_clearsky_dni', 'cat_mr_clearsky_ghi']] = np.concatenate(np.array(list(cat_mr_final_oofs.values())), axis=0)\n",
    "tmp_test_df[['cat_mr_clearsky_dhi', 'cat_mr_clearsky_dni', 'cat_mr_clearsky_ghi']] = np.concatenate(np.array(list(cat_mr_final_test.values())), axis=0)"
   ]
  },
  {
   "cell_type": "code",
   "execution_count": 8,
   "id": "a9ef70e2",
   "metadata": {
    "execution": {
     "iopub.execute_input": "2022-02-14T10:04:53.227688Z",
     "iopub.status.busy": "2022-02-14T10:04:53.226867Z",
     "iopub.status.idle": "2022-02-14T10:04:53.521799Z",
     "shell.execute_reply": "2022-02-14T10:04:53.522286Z",
     "shell.execute_reply.started": "2022-02-14T09:54:46.577150Z"
    },
    "papermill": {
     "duration": 0.337842,
     "end_time": "2022-02-14T10:04:53.522510",
     "exception": false,
     "start_time": "2022-02-14T10:04:53.184668",
     "status": "completed"
    },
    "tags": []
   },
   "outputs": [],
   "source": [
    "cat_mr_v1_final_oofs = np.load(\"weights/cat/MR_CAT_V1_cv_547_lb_363_oofs_predict_dict.npy\", allow_pickle=True).tolist()\n",
    "cat_mr_v1_final_test = np.load(\"weights/cat/MR_CAT_V1_cv_547_lb_363_test_predict_dict.npy\", allow_pickle=True).tolist()\n",
    "\n",
    "train_df[['cat_mr_v1_clearsky_dhi', 'cat_mr_v1_clearsky_dni', 'cat_mr_v1_clearsky_ghi']] = np.concatenate(np.array(list(cat_mr_v1_final_oofs.values())), axis=0)\n",
    "tmp_test_df[['cat_mr_v1_clearsky_dhi', 'cat_mr_v1_clearsky_dni', 'cat_mr_v1_clearsky_ghi']] = np.concatenate(np.array(list(cat_mr_v1_final_test.values())), axis=0)"
   ]
  },
  {
   "cell_type": "code",
   "execution_count": 9,
   "id": "b3efd8f5",
   "metadata": {
    "execution": {
     "iopub.execute_input": "2022-02-14T10:04:53.604677Z",
     "iopub.status.busy": "2022-02-14T10:04:53.603790Z",
     "iopub.status.idle": "2022-02-14T10:04:53.777181Z",
     "shell.execute_reply": "2022-02-14T10:04:53.777759Z",
     "shell.execute_reply.started": "2022-02-14T09:54:47.111236Z"
    },
    "papermill": {
     "duration": 0.21809,
     "end_time": "2022-02-14T10:04:53.777941",
     "exception": false,
     "start_time": "2022-02-14T10:04:53.559851",
     "status": "completed"
    },
    "tags": []
   },
   "outputs": [],
   "source": [
    "cat_mr_v2_final_oofs = np.load(\"weights/cat/MR_CAT_V1_cv_550_lb_371_oofs_predict_dict.npy\", allow_pickle=True).tolist()\n",
    "cat_mr_v2_final_test = np.load(\"weights/cat/MR_CAT_V1_cv_550_lb_371_test_predict_dict.npy\", allow_pickle=True).tolist()\n",
    "\n",
    "train_df[['cat_mr_v2_clearsky_dhi', 'cat_mr_v2_clearsky_dni', 'cat_mr_v2_clearsky_ghi']] = np.concatenate(np.array(list(cat_mr_v2_final_oofs.values())), axis=0)\n",
    "tmp_test_df[['cat_mr_v2_clearsky_dhi', 'cat_mr_v2_clearsky_dni', 'cat_mr_v2_clearsky_ghi']] = np.concatenate(np.array(list(cat_mr_v2_final_test.values())), axis=0)"
   ]
  },
  {
   "cell_type": "code",
   "execution_count": null,
   "id": "e1e7b0d2",
   "metadata": {
    "papermill": {
     "duration": 0.037359,
     "end_time": "2022-02-14T10:04:53.853216",
     "exception": false,
     "start_time": "2022-02-14T10:04:53.815857",
     "status": "completed"
    },
    "tags": []
   },
   "outputs": [],
   "source": []
  },
  {
   "cell_type": "code",
   "execution_count": 11,
   "id": "6ce4beb6",
   "metadata": {
    "execution": {
     "iopub.execute_input": "2022-02-14T10:04:53.929624Z",
     "iopub.status.busy": "2022-02-14T10:04:53.928936Z",
     "iopub.status.idle": "2022-02-14T10:04:54.194568Z",
     "shell.execute_reply": "2022-02-14T10:04:54.195089Z",
     "shell.execute_reply.started": "2022-02-14T09:54:48.086514Z"
    },
    "papermill": {
     "duration": 0.30559,
     "end_time": "2022-02-14T10:04:54.195292",
     "exception": false,
     "start_time": "2022-02-14T10:04:53.889702",
     "status": "completed"
    },
    "tags": []
   },
   "outputs": [],
   "source": [
    "cat_final_oofs = np.load(\"weights/cat/CAT_F_cv_546_lb_373_oofs_predict_dict.npy\", allow_pickle=True).tolist()\n",
    "cat_final_test = np.load(\"weights/cat/CAT_F_cv_546_lb_373_test_predict_dict.npy\", allow_pickle=True).tolist()\n",
    "\n",
    "train_df[['cat_clearsky_dhi', 'cat_clearsky_dni', 'cat_clearsky_ghi']] = np.concatenate(np.array(list(cat_final_oofs.values())), axis=1).T\n",
    "tmp_test_df[['cat_clearsky_dhi', 'cat_clearsky_dni', 'cat_clearsky_ghi']] = np.concatenate(np.array(list(cat_final_test.values())), axis=1).T"
   ]
  },
  {
   "cell_type": "code",
   "execution_count": 15,
   "id": "6481f844",
   "metadata": {
    "execution": {
     "iopub.execute_input": "2022-02-14T10:04:54.278250Z",
     "iopub.status.busy": "2022-02-14T10:04:54.277572Z",
     "iopub.status.idle": "2022-02-14T10:04:54.515248Z",
     "shell.execute_reply": "2022-02-14T10:04:54.515917Z",
     "shell.execute_reply.started": "2022-02-14T09:54:48.607119Z"
    },
    "papermill": {
     "duration": 0.282808,
     "end_time": "2022-02-14T10:04:54.516121",
     "exception": false,
     "start_time": "2022-02-14T10:04:54.233313",
     "status": "completed"
    },
    "tags": []
   },
   "outputs": [],
   "source": [
    "cat_final_v1_oofs = np.load(\"weights/cat/CAT_V1_cv_554_lb_372_oofs_predict_dict.npy\", allow_pickle=True).tolist()\n",
    "cat_final_v1_test = np.load(\"weights/cat/CAT_V1_cv_554_lb_372_test_predict_dict.npy\", allow_pickle=True).tolist()\n",
    "\n",
    "train_df[['cat_v1_clearsky_dhi', 'cat_v1_clearsky_dni', 'cat_v1_clearsky_ghi']] = np.concatenate(np.array(list(cat_final_v1_oofs.values())), axis=1).T\n",
    "tmp_test_df[['cat_v1_clearsky_dhi', 'cat_v1_clearsky_dni', 'cat_v1_clearsky_ghi']] = np.concatenate(np.array(list(cat_final_v1_test.values())), axis=1).T"
   ]
  },
  {
   "cell_type": "code",
   "execution_count": 16,
   "id": "dedd01f9",
   "metadata": {
    "execution": {
     "iopub.execute_input": "2022-02-14T10:04:54.596855Z",
     "iopub.status.busy": "2022-02-14T10:04:54.596133Z",
     "iopub.status.idle": "2022-02-14T10:04:54.843206Z",
     "shell.execute_reply": "2022-02-14T10:04:54.842469Z",
     "shell.execute_reply.started": "2022-02-14T09:54:48.941210Z"
    },
    "papermill": {
     "duration": 0.29077,
     "end_time": "2022-02-14T10:04:54.843414",
     "exception": false,
     "start_time": "2022-02-14T10:04:54.552644",
     "status": "completed"
    },
    "tags": []
   },
   "outputs": [],
   "source": [
    "cat_final_v2_oofs = np.load(\"weights/cat/CAT_FV2_cv_548_lb_384_oofs_predict_dict.npy\", allow_pickle=True).tolist()\n",
    "cat_final_v2_test = np.load(\"weights/cat/CAT_FV2_cv_548_lb_384_test_predict_dict.npy\", allow_pickle=True).tolist()\n",
    "\n",
    "train_df[['cat_v2_clearsky_dhi', 'cat_v2_clearsky_dni', 'cat_v2_clearsky_ghi']] = np.concatenate(np.array(list(cat_final_v2_oofs.values())), axis=1).T\n",
    "tmp_test_df[['cat_v2_clearsky_dhi', 'cat_v2_clearsky_dni', 'cat_v2_clearsky_ghi']] = np.concatenate(np.array(list(cat_final_v2_test.values())), axis=1).T"
   ]
  },
  {
   "cell_type": "code",
   "execution_count": null,
   "id": "f8312454",
   "metadata": {
    "papermill": {
     "duration": 0.037424,
     "end_time": "2022-02-14T10:04:54.918289",
     "exception": false,
     "start_time": "2022-02-14T10:04:54.880865",
     "status": "completed"
    },
    "tags": []
   },
   "outputs": [],
   "source": []
  },
  {
   "cell_type": "code",
   "execution_count": 18,
   "id": "c4ec49c2",
   "metadata": {
    "execution": {
     "iopub.execute_input": "2022-02-14T10:04:55.002568Z",
     "iopub.status.busy": "2022-02-14T10:04:55.001394Z",
     "iopub.status.idle": "2022-02-14T10:04:55.249457Z",
     "shell.execute_reply": "2022-02-14T10:04:55.248726Z",
     "shell.execute_reply.started": "2022-02-14T09:54:49.411322Z"
    },
    "papermill": {
     "duration": 0.290368,
     "end_time": "2022-02-14T10:04:55.249616",
     "exception": false,
     "start_time": "2022-02-14T10:04:54.959248",
     "status": "completed"
    },
    "tags": []
   },
   "outputs": [],
   "source": [
    "lgb_final_oofs = np.load(\"weights/lgb/LGBM_F_r_s_cv_549_lb_369_oofs_predict_dict.npy\", allow_pickle=True).tolist()\n",
    "lgb_final_test = np.load(\"weights/lgb/LGBM_F_r_s_cv_549_lb_369_test_predict_dict.npy\", allow_pickle=True).tolist()\n",
    "\n",
    "train_df[['lgb_clearsky_dhi', 'lgb_clearsky_dni', 'lgb_clearsky_ghi']] = np.concatenate(np.array(list(lgb_final_oofs.values())), axis=1).T\n",
    "tmp_test_df[['lgb_clearsky_dhi', 'lgb_clearsky_dni', 'lgb_clearsky_ghi']] = np.concatenate(np.array(list(lgb_final_test.values())), axis=1).T"
   ]
  },
  {
   "cell_type": "code",
   "execution_count": 19,
   "id": "9885c42b",
   "metadata": {
    "execution": {
     "iopub.execute_input": "2022-02-14T10:04:55.336506Z",
     "iopub.status.busy": "2022-02-14T10:04:55.335222Z",
     "iopub.status.idle": "2022-02-14T10:04:55.521865Z",
     "shell.execute_reply": "2022-02-14T10:04:55.522414Z",
     "shell.execute_reply.started": "2022-02-14T09:54:49.622588Z"
    },
    "papermill": {
     "duration": 0.234918,
     "end_time": "2022-02-14T10:04:55.522617",
     "exception": false,
     "start_time": "2022-02-14T10:04:55.287699",
     "status": "completed"
    },
    "tags": []
   },
   "outputs": [],
   "source": [
    "lgb_final_v1_oofs = np.load(\"weights/lgb/LGBM_V1_cv_551_lb_363_oofs_predict_dict.npy\", allow_pickle=True).tolist()\n",
    "lgb_final_v1_test = np.load(\"weights/lgb/LGBM_V1_cv_551_lb_363_test_predict_dict.npy\", allow_pickle=True).tolist()\n",
    "\n",
    "train_df[['lgb_v1_clearsky_dhi', 'lgb_v1_clearsky_dni', 'lgb_v1_clearsky_ghi']] = np.concatenate(np.array(list(lgb_final_v1_oofs.values())), axis=1).T\n",
    "tmp_test_df[['lgb_v1_clearsky_dhi', 'lgb_v1_clearsky_dni', 'lgb_v1_clearsky_ghi']] = np.concatenate(np.array(list(lgb_final_v1_test.values())), axis=1).T"
   ]
  },
  {
   "cell_type": "code",
   "execution_count": 20,
   "id": "a035722f",
   "metadata": {
    "execution": {
     "iopub.execute_input": "2022-02-14T10:04:55.605238Z",
     "iopub.status.busy": "2022-02-14T10:04:55.604542Z",
     "iopub.status.idle": "2022-02-14T10:04:55.817632Z",
     "shell.execute_reply": "2022-02-14T10:04:55.818249Z",
     "shell.execute_reply.started": "2022-02-14T09:54:49.820977Z"
    },
    "papermill": {
     "duration": 0.257926,
     "end_time": "2022-02-14T10:04:55.818456",
     "exception": false,
     "start_time": "2022-02-14T10:04:55.560530",
     "status": "completed"
    },
    "tags": []
   },
   "outputs": [],
   "source": [
    "lgb_final_v2_oofs = np.load(\"weights/lgb/LGBM_FV2_r_s_cv_556_lb_374_oofs_predict_dict.npy\", allow_pickle=True).tolist()\n",
    "lgb_final_v2_test = np.load(\"weights/lgb/LGBM_FV2_r_s_cv_556_lb_374_test_predict_dict.npy\", allow_pickle=True).tolist()\n",
    "\n",
    "train_df[['lgb_v2_clearsky_dhi', 'lgb_v2_clearsky_dni', 'lgb_v2_clearsky_ghi']] = np.concatenate(np.array(list(lgb_final_v2_oofs.values())), axis=1).T\n",
    "tmp_test_df[['lgb_v2_clearsky_dhi', 'lgb_v2_clearsky_dni', 'lgb_v2_clearsky_ghi']] = np.concatenate(np.array(list(lgb_final_v2_test.values())), axis=1).T"
   ]
  },
  {
   "cell_type": "code",
   "execution_count": 21,
   "id": "ed3c52fd",
   "metadata": {
    "execution": {
     "iopub.execute_input": "2022-02-14T10:04:55.898123Z",
     "iopub.status.busy": "2022-02-14T10:04:55.896937Z",
     "iopub.status.idle": "2022-02-14T10:04:56.051107Z",
     "shell.execute_reply": "2022-02-14T10:04:56.050393Z",
     "shell.execute_reply.started": "2022-02-14T09:54:50.131374Z"
    },
    "papermill": {
     "duration": 0.196558,
     "end_time": "2022-02-14T10:04:56.051284",
     "exception": false,
     "start_time": "2022-02-14T10:04:55.854726",
     "status": "completed"
    },
    "tags": []
   },
   "outputs": [],
   "source": [
    "lgb_hp_final_oofs = np.load(\"weights/lgb/LGBM_FHP_r_s_cv_530_lb_351_oofs_predict_dict.npy\", allow_pickle=True).tolist()\n",
    "lgb_hp_final_test = np.load(\"weights/lgb/LGBM_FHP_r_s_cv_530_lb_351_test_predict_dict.npy\", allow_pickle=True).tolist()\n",
    "\n",
    "train_df[['lgb_hp_clearsky_dhi', 'lgb_hp_clearsky_dni', 'lgb_hp_clearsky_ghi']] = np.concatenate(np.array(list(lgb_hp_final_oofs.values())), axis=1).T\n",
    "tmp_test_df[['lgb_hp_clearsky_dhi', 'lgb_hp_clearsky_dni', 'lgb_hp_clearsky_ghi']] = np.concatenate(np.array(list(lgb_hp_final_test.values())), axis=1).T"
   ]
  },
  {
   "cell_type": "code",
   "execution_count": null,
   "id": "d234be3a",
   "metadata": {
    "papermill": {
     "duration": 0.036475,
     "end_time": "2022-02-14T10:04:56.126799",
     "exception": false,
     "start_time": "2022-02-14T10:04:56.090324",
     "status": "completed"
    },
    "tags": []
   },
   "outputs": [],
   "source": []
  },
  {
   "cell_type": "code",
   "execution_count": 22,
   "id": "f3a87b19",
   "metadata": {
    "execution": {
     "iopub.execute_input": "2022-02-14T10:04:56.208466Z",
     "iopub.status.busy": "2022-02-14T10:04:56.207694Z",
     "iopub.status.idle": "2022-02-14T10:04:56.286009Z",
     "shell.execute_reply": "2022-02-14T10:04:56.285467Z",
     "shell.execute_reply.started": "2022-02-14T09:54:50.820793Z"
    },
    "papermill": {
     "duration": 0.122333,
     "end_time": "2022-02-14T10:04:56.286161",
     "exception": false,
     "start_time": "2022-02-14T10:04:56.163828",
     "status": "completed"
    },
    "tags": []
   },
   "outputs": [],
   "source": [
    "xgb_final_oofs = np.load(\"weights/xgb/XGB_F_cv_555_lb_372_oofs_predict_dict.npy\", allow_pickle=True).tolist()\n",
    "xgb_final_test = np.load(\"weights/xgb/XGB_F_cv_555_lb_372_test_predict_dict.npy\", allow_pickle=True).tolist()\n",
    "\n",
    "train_df[['xgb_clearsky_dhi', 'xgb_clearsky_dni', 'xgb_clearsky_ghi']] = np.concatenate(np.array(list(xgb_final_oofs.values())), axis=1).T\n",
    "tmp_test_df[['xgb_clearsky_dhi', 'xgb_clearsky_dni', 'xgb_clearsky_ghi']] = np.concatenate(np.array(list(xgb_final_test.values())), axis=1).T"
   ]
  },
  {
   "cell_type": "code",
   "execution_count": 23,
   "id": "4643d8b2",
   "metadata": {
    "execution": {
     "iopub.execute_input": "2022-02-14T10:04:56.366682Z",
     "iopub.status.busy": "2022-02-14T10:04:56.365907Z",
     "iopub.status.idle": "2022-02-14T10:04:56.448451Z",
     "shell.execute_reply": "2022-02-14T10:04:56.447837Z",
     "shell.execute_reply.started": "2022-02-14T09:54:51.012469Z"
    },
    "papermill": {
     "duration": 0.125142,
     "end_time": "2022-02-14T10:04:56.448639",
     "exception": false,
     "start_time": "2022-02-14T10:04:56.323497",
     "status": "completed"
    },
    "tags": []
   },
   "outputs": [],
   "source": [
    "xgb_v1_final_oofs = np.load(\"weights/xgb/XGB_V1_cv_549_lb_362_oofs_predict_dict.npy\", allow_pickle=True).tolist()\n",
    "xgb_v1_final_test = np.load(\"weights/xgb/XGB_V1_cv_549_lb_362_test_predict_dict.npy\", allow_pickle=True).tolist()\n",
    "\n",
    "train_df[['xgb_v1_clearsky_dhi', 'xgb_v1_clearsky_dni', 'xgb_v1_clearsky_ghi']] = np.concatenate(np.array(list(xgb_v1_final_oofs.values())), axis=1).T\n",
    "tmp_test_df[['xgb_v1_clearsky_dhi', 'xgb_v1_clearsky_dni', 'xgb_v1_clearsky_ghi']] = np.concatenate(np.array(list(xgb_v1_final_test.values())), axis=1).T"
   ]
  },
  {
   "cell_type": "code",
   "execution_count": 24,
   "id": "01333ada",
   "metadata": {
    "execution": {
     "iopub.execute_input": "2022-02-14T10:04:56.529784Z",
     "iopub.status.busy": "2022-02-14T10:04:56.528739Z",
     "iopub.status.idle": "2022-02-14T10:04:56.597491Z",
     "shell.execute_reply": "2022-02-14T10:04:56.598123Z",
     "shell.execute_reply.started": "2022-02-14T09:54:51.286475Z"
    },
    "papermill": {
     "duration": 0.111416,
     "end_time": "2022-02-14T10:04:56.598414",
     "exception": false,
     "start_time": "2022-02-14T10:04:56.486998",
     "status": "completed"
    },
    "tags": []
   },
   "outputs": [],
   "source": [
    "xgb_v2_final_oofs = np.load(\"weights/xgb/CAT_V2_cv_553_lb_368_oofs_predict_dict.npy\", allow_pickle=True).tolist()\n",
    "xgb_v2_final_test = np.load(\"weights/xgb/CAT_V2_cv_553_lb_368_test_predict_dict.npy\", allow_pickle=True).tolist()\n",
    "\n",
    "train_df[['xgb_v2_clearsky_dhi', 'xgb_v2_clearsky_dni', 'xgb_v2_clearsky_ghi']] = np.concatenate(np.array(list(xgb_v2_final_oofs.values())), axis=1).T\n",
    "tmp_test_df[['xgb_v2_clearsky_dhi', 'xgb_v2_clearsky_dni', 'xgb_v2_clearsky_ghi']] = np.concatenate(np.array(list(xgb_v2_final_test.values())), axis=1).T"
   ]
  },
  {
   "cell_type": "code",
   "execution_count": 26,
   "id": "86bc4324",
   "metadata": {
    "execution": {
     "iopub.execute_input": "2022-02-14T10:05:25.634678Z",
     "iopub.status.busy": "2022-02-14T10:05:25.633888Z",
     "iopub.status.idle": "2022-02-14T10:05:25.636789Z",
     "shell.execute_reply": "2022-02-14T10:05:25.636081Z",
     "shell.execute_reply.started": "2022-02-14T09:55:27.029265Z"
    },
    "papermill": {
     "duration": 0.061259,
     "end_time": "2022-02-14T10:05:25.636934",
     "exception": false,
     "start_time": "2022-02-14T10:05:25.575675",
     "status": "completed"
    },
    "tags": []
   },
   "outputs": [],
   "source": [
    "def run_lgb(train_df, test_df, train_cols, target_cols, year):\n",
    "\n",
    "    #train_df = train_df.query(\"year != 2011\").reset_index(drop=True)\n",
    "\n",
    "    oofs_predict_dict = {}\n",
    "    test_predict_dict = {}\n",
    "\n",
    "    oofs_scores_dict = {}\n",
    "    oofs_lb_scores_dict = {}\n",
    "\n",
    "    X_test = test_df[train_cols]\n",
    "\n",
    "    for target_col in target_cols:\n",
    "        \n",
    "#         train_cols = TRAIN_COLS[target_col]\n",
    "#         X_test = test_df[train_cols]\n",
    "\n",
    "        # if year == 2011:\n",
    "        #     continue\n",
    "\n",
    "        print(\"=\"*100)\n",
    "        print(\"YEAR : \", year)\n",
    "        print(\"Target :\", target_col)\n",
    "        print(\"_\"*100)\n",
    "\n",
    "        X_train = train_df.query(f\"year != {year}\")[train_cols]\n",
    "        y_train = train_df.query(f\"year != {year}\")[target_col]\n",
    "\n",
    "        X_valid = train_df.query(f\"year == {year}\")[train_cols]\n",
    "        y_valid = train_df.query(f\"year == {year}\")[target_col]\n",
    "\n",
    "        print(\"Trian :\", X_train.shape, y_train.shape)\n",
    "        print(\"Valid :\", X_valid.shape, y_valid.shape)\n",
    "\n",
    "\n",
    "#         params = {\n",
    "#             'iterations':10000,\n",
    "#             'loss_function': 'RMSE',\n",
    "#             'eval_metric' : 'RMSE',#MSEMetric(),\n",
    "#             'task_type': 'CPU',\n",
    "\n",
    "#         }\n",
    "#         model = cat.CatBoostRegressor(**params)\n",
    "#         model.fit(X_train, y_train, eval_set=[(X_valid, y_valid)], \n",
    "#                     early_stopping_rounds=200,\n",
    "#                     verbose=100)\n",
    "            \n",
    "\n",
    "#         valid_predict = np.clip(model.predict(X_valid), a_min=0, a_max=None)\n",
    "#         test_predict = np.clip(model.predict(X_test), a_min=0, a_max=None)\n",
    "        \n",
    "#         model = linear_model.ElasticNet()\n",
    "        model = linear_model.LinearRegression()\n",
    "        #model = svm.LinearSVR(fit_intercept=False)\n",
    "        model.fit(X_train, y_train)\n",
    "        \n",
    "        valid_predict = model.predict(X_valid)\n",
    "        test_predict = model.predict(X_test)\n",
    "\n",
    "        oofs_predict_dict[f'{target_col}_{year}'] = valid_predict\n",
    "        test_predict_dict[f'{target_col}_{year}'] = test_predict\n",
    "\n",
    "        tmp_preds = np.zeros(len(X_test))\n",
    "        tmp_true = np.zeros(len(X_test))\n",
    "        tmp_preds[:len(valid_predict)] = valid_predict\n",
    "        tmp_true[:len(y_valid)] = y_valid\n",
    "        \n",
    "        tmp_score = metrics.mean_squared_error(tmp_true, tmp_preds)\n",
    "        print('TMP MSE', tmp_score)\n",
    "\n",
    "        score = metrics.mean_squared_error(y_valid, valid_predict)\n",
    "        oofs_scores_dict[f'{target_col}_{year}'] = score\n",
    "        print('MSE :', score)\n",
    "\n",
    "        lb_score = metrics.mean_squared_error(y_valid[-5256:], valid_predict[-5256:])\n",
    "        oofs_lb_scores_dict[f'{target_col}_{year}'] = lb_score\n",
    "        print('LB MSE :', lb_score)\n",
    "\n",
    "#         fi = pd.Series(index = train_cols, data = model.feature_importances_)\n",
    "#         fi.sort_values(ascending=False)[0:20][::-1].plot(kind = 'barh')\n",
    "#         plt.show()\n",
    "\n",
    "    score = np.mean(list(oofs_scores_dict.values()))\n",
    "    print(\"OOFS MSE MEAN\", score)\n",
    "\n",
    "    lb_score = np.mean(list(oofs_lb_scores_dict.values()))\n",
    "    print(\"OOFS LB MSE MEAN\", lb_score)\n",
    "\n",
    "    #oofs_mean = np.array(list(oofs_predict_dict.values())).mean(axis=0)\n",
    "    #test_mean = np.array(list(test_predict_dict.values())).mean(axis=0)\n",
    "\n",
    "    return score, lb_score, oofs_predict_dict, test_predict_dict"
   ]
  },
  {
   "cell_type": "code",
   "execution_count": 27,
   "id": "5136bb68",
   "metadata": {
    "execution": {
     "iopub.execute_input": "2022-02-14T10:05:25.731207Z",
     "iopub.status.busy": "2022-02-14T10:05:25.730444Z",
     "iopub.status.idle": "2022-02-14T10:05:25.740977Z",
     "shell.execute_reply": "2022-02-14T10:05:25.741494Z",
     "shell.execute_reply.started": "2022-02-14T09:55:27.054180Z"
    },
    "papermill": {
     "duration": 0.059737,
     "end_time": "2022-02-14T10:05:25.741708",
     "exception": false,
     "start_time": "2022-02-14T10:05:25.681971",
     "status": "completed"
    },
    "tags": []
   },
   "outputs": [],
   "source": [
    "def run_lgbm_years(train_df, test_df, train_cols, target_cols):\n",
    "    \n",
    "    oofs_predict_dict_final = {}\n",
    "    test_predict_dict_final = {}\n",
    "    score_dict = {}\n",
    "    lb_score_dict = {}\n",
    "    oofs_predict_stack_dict = {}\n",
    "\n",
    "    for year in range(2009, 2019):\n",
    "        if year == 2011:\n",
    "            continue\n",
    "            \n",
    "        print(\"=*\"*100)\n",
    "        print(\"Year :\", year)\n",
    "        print(\"-*\"*100)\n",
    "        score, lb_score, oofs_predict_dict, test_predict_dict = run_lgb(train_df, test_df, train_cols, target_cols, year)\n",
    "\n",
    "        score_dict[year] = score\n",
    "        lb_score_dict[year] = lb_score\n",
    "        oofs_predict_dict_final[year] = np.array(list(oofs_predict_dict.values()))\n",
    "        test_predict_dict_final[year] = np.array(list(test_predict_dict.values()))\n",
    "        #oofs_predict_stack_dict[year] = oofs_predict_stack\n",
    "    \n",
    "    score_mean = np.mean(list(score_dict.values()))\n",
    "    print(\"FINAL MAE\", score_mean)\n",
    "\n",
    "    lb_score_mean = np.mean(list(lb_score_dict.values()))\n",
    "    print(\"FINAL LB MAE\", lb_score_mean)\n",
    "\n",
    "    return score_mean, lb_score_mean, oofs_predict_dict_final, test_predict_dict_final"
   ]
  },
  {
   "cell_type": "code",
   "execution_count": 28,
   "id": "c56fa3ba",
   "metadata": {
    "execution": {
     "iopub.execute_input": "2022-02-14T10:05:25.841796Z",
     "iopub.status.busy": "2022-02-14T10:05:25.838077Z",
     "iopub.status.idle": "2022-02-14T10:05:25.844706Z",
     "shell.execute_reply": "2022-02-14T10:05:25.845193Z",
     "shell.execute_reply.started": "2022-02-14T09:55:27.071812Z"
    },
    "papermill": {
     "duration": 0.055766,
     "end_time": "2022-02-14T10:05:25.845408",
     "exception": false,
     "start_time": "2022-02-14T10:05:25.789642",
     "status": "completed"
    },
    "tags": []
   },
   "outputs": [],
   "source": [
    "def normalize_scaler(train_df, test_df, cols):\n",
    "    ss = preprocessing.StandardScaler()\n",
    "    ss.fit(train_df[cols])\n",
    "    train_df[cols] = ss.transform(train_df[cols])\n",
    "    test_df[cols] = ss.transform(test_df[cols])\n",
    "    return train_df, test_df"
   ]
  },
  {
   "cell_type": "code",
   "execution_count": 29,
   "id": "ff03a8d5",
   "metadata": {
    "execution": {
     "iopub.execute_input": "2022-02-14T10:05:25.939008Z",
     "iopub.status.busy": "2022-02-14T10:05:25.938106Z",
     "iopub.status.idle": "2022-02-14T10:05:25.945558Z",
     "shell.execute_reply": "2022-02-14T10:05:25.944923Z",
     "shell.execute_reply.started": "2022-02-14T09:56:04.312235Z"
    },
    "papermill": {
     "duration": 0.054738,
     "end_time": "2022-02-14T10:05:25.945722",
     "exception": false,
     "start_time": "2022-02-14T10:05:25.890984",
     "status": "completed"
    },
    "tags": []
   },
   "outputs": [
    {
     "data": {
      "text/plain": [
       "Index(['cat_mr_clearsky_dhi', 'cat_mr_clearsky_dni', 'cat_mr_clearsky_ghi',\n",
       "       'cat_mr_v1_clearsky_dhi', 'cat_mr_v1_clearsky_dni',\n",
       "       'cat_mr_v1_clearsky_ghi', 'cat_mr_v2_clearsky_dhi',\n",
       "       'cat_mr_v2_clearsky_dni', 'cat_mr_v2_clearsky_ghi', 'cat_clearsky_dhi',\n",
       "       'cat_clearsky_dni', 'cat_clearsky_ghi', 'cat_v1_clearsky_dhi',\n",
       "       'cat_v1_clearsky_dni', 'cat_v1_clearsky_ghi', 'cat_v2_clearsky_dhi',\n",
       "       'cat_v2_clearsky_dni', 'cat_v2_clearsky_ghi', 'lgb_clearsky_dhi',\n",
       "       'lgb_clearsky_dni', 'lgb_clearsky_ghi', 'lgb_v1_clearsky_dhi',\n",
       "       'lgb_v1_clearsky_dni', 'lgb_v1_clearsky_ghi', 'lgb_v2_clearsky_dhi',\n",
       "       'lgb_v2_clearsky_dni', 'lgb_v2_clearsky_ghi', 'lgb_hp_clearsky_dhi',\n",
       "       'lgb_hp_clearsky_dni', 'lgb_hp_clearsky_ghi', 'xgb_clearsky_dhi',\n",
       "       'xgb_clearsky_dni', 'xgb_clearsky_ghi', 'xgb_v1_clearsky_dhi',\n",
       "       'xgb_v1_clearsky_dni', 'xgb_v1_clearsky_ghi', 'xgb_v2_clearsky_dhi',\n",
       "       'xgb_v2_clearsky_dni', 'xgb_v2_clearsky_ghi'],\n",
       "      dtype='object')"
      ]
     },
     "execution_count": 29,
     "metadata": {},
     "output_type": "execute_result"
    }
   ],
   "source": [
    "train_df.columns[18:]"
   ]
  },
  {
   "cell_type": "code",
   "execution_count": 30,
   "id": "3ef5a9fd",
   "metadata": {
    "execution": {
     "iopub.execute_input": "2022-02-14T10:05:26.031596Z",
     "iopub.status.busy": "2022-02-14T10:05:26.030636Z",
     "iopub.status.idle": "2022-02-14T10:05:26.040126Z",
     "shell.execute_reply": "2022-02-14T10:05:26.040626Z",
     "shell.execute_reply.started": "2022-02-14T10:00:43.842177Z"
    },
    "papermill": {
     "duration": 0.052223,
     "end_time": "2022-02-14T10:05:26.040814",
     "exception": false,
     "start_time": "2022-02-14T10:05:25.988591",
     "status": "completed"
    },
    "tags": []
   },
   "outputs": [],
   "source": [
    "drop_cols = ['year', 'clearsky_dhi', 'clearsky_dni', 'clearsky_ghi', 'fill_flag']\n",
    "train_cols = [col for col in train_df.columns if col not in drop_cols]\n",
    "train_cols = [\n",
    "              'cat_mr_clearsky_dhi', 'cat_mr_clearsky_dni', 'cat_mr_clearsky_ghi',\n",
    "              'cat_mr_v1_clearsky_dhi', 'cat_mr_v1_clearsky_dni', 'cat_mr_v1_clearsky_ghi',\n",
    "              'cat_mr_v2_clearsky_dhi', 'cat_mr_v2_clearsky_dni', 'cat_mr_v2_clearsky_ghi',\n",
    "            \n",
    "              'cat_clearsky_dhi', 'cat_clearsky_dni', 'cat_clearsky_ghi',\n",
    "              'cat_v1_clearsky_dhi', 'cat_v1_clearsky_dni', 'cat_v1_clearsky_ghi',\n",
    "              'cat_v2_clearsky_dhi', 'cat_v2_clearsky_dni', 'cat_v2_clearsky_ghi',\n",
    "    \n",
    "              'lgb_clearsky_dhi', 'lgb_clearsky_dni', 'lgb_clearsky_ghi',\n",
    "              'lgb_v1_clearsky_dhi', 'lgb_v1_clearsky_dni', 'lgb_v1_clearsky_ghi',\n",
    "              'lgb_v2_clearsky_dhi', 'lgb_v2_clearsky_dni', 'lgb_v2_clearsky_ghi',\n",
    "    \n",
    "              'xgb_clearsky_dhi', 'xgb_clearsky_dni', 'xgb_clearsky_ghi',\n",
    "              'xgb_v1_clearsky_dhi', 'xgb_v1_clearsky_dni', 'xgb_v1_clearsky_ghi',\n",
    "              'xgb_v2_clearsky_dhi', 'xgb_v2_clearsky_dni', 'xgb_v2_clearsky_ghi',\n",
    "    \n",
    "              \n",
    "              #'lgb_hp_clearsky_dhi', 'lgb_hp_clearsky_dni', 'lgb_hp_clearsky_ghi'\n",
    "              #'cat_v2_clearsky_dhi', 'cat_v2_clearsky_dni', 'cat_v2_clearsky_ghi',\n",
    "              #'lgb_v2_clearsky_dhi', 'lgb_v2_clearsky_dni', 'lgb_v2_clearsky_ghi'\n",
    "              #'cat_mr_v1_clearsky_dhi', 'cat_mr_v1_clearsky_dni', 'cat_mr_v1_clearsky_ghi',\n",
    "              \n",
    "             ]\n",
    "target_cols = ['clearsky_dhi', 'clearsky_dni', 'clearsky_ghi']\n",
    "\n",
    "TRAIN_COLS = {\n",
    "    \"clearsky_dhi\" : [\n",
    "         'cat_mr_clearsky_dhi',\n",
    "         'cat_clearsky_dhi',\n",
    "         'lgb_clearsky_dhi',\n",
    "         #'cat_v2_clearsky_dhi',\n",
    "         #'lgb_v2_clearsky_dhi'\n",
    "    ],\n",
    "    \n",
    "    \"clearsky_dni\" : [\n",
    "         'cat_mr_clearsky_dni',\n",
    "         'cat_clearsky_dni',\n",
    "         'lgb_clearsky_dni',\n",
    "         #'cat_v2_clearsky_dni',\n",
    "         #'lgb_v2_clearsky_dni'\n",
    "    ],\n",
    "    \n",
    "    \"clearsky_ghi\" : [\n",
    "         'cat_mr_clearsky_ghi',\n",
    "         'cat_clearsky_ghi',\n",
    "         'lgb_clearsky_ghi',\n",
    "         #'cat_v2_clearsky_ghi',\n",
    "         #'lgb_v2_clearsky_ghi'\n",
    "    ]\n",
    "}"
   ]
  },
  {
   "cell_type": "code",
   "execution_count": 31,
   "id": "5620caba",
   "metadata": {
    "execution": {
     "iopub.execute_input": "2022-02-14T10:05:26.224947Z",
     "iopub.status.busy": "2022-02-14T10:05:26.222319Z",
     "iopub.status.idle": "2022-02-14T10:05:26.414299Z",
     "shell.execute_reply": "2022-02-14T10:05:26.413750Z",
     "shell.execute_reply.started": "2022-02-14T10:00:47.367026Z"
    },
    "papermill": {
     "duration": 0.240536,
     "end_time": "2022-02-14T10:05:26.414467",
     "exception": false,
     "start_time": "2022-02-14T10:05:26.173931",
     "status": "completed"
    },
    "tags": []
   },
   "outputs": [
    {
     "data": {
      "text/plain": [
       "((157680, 57), (157680, 57))"
      ]
     },
     "execution_count": 31,
     "metadata": {},
     "output_type": "execute_result"
    }
   ],
   "source": [
    "d_train_df = train_df[train_df['year'] != 2011].reset_index(drop=True)\n",
    "d_test_df = tmp_test_df[tmp_test_df['year'] != 2011].reset_index(drop=True)\n",
    "\n",
    "d_train_df.shape, d_test_df.shape"
   ]
  },
  {
   "cell_type": "code",
   "execution_count": 32,
   "id": "b65c4ec5",
   "metadata": {},
   "outputs": [
    {
     "name": "stdout",
     "output_type": "stream",
     "text": [
      "=*=*=*=*=*=*=*=*=*=*=*=*=*=*=*=*=*=*=*=*=*=*=*=*=*=*=*=*=*=*=*=*=*=*=*=*=*=*=*=*=*=*=*=*=*=*=*=*=*=*=*=*=*=*=*=*=*=*=*=*=*=*=*=*=*=*=*=*=*=*=*=*=*=*=*=*=*=*=*=*=*=*=*=*=*=*=*=*=*=*=*=*=*=*=*=*=*=*=*=*\n",
      "Year : 2009\n",
      "-*-*-*-*-*-*-*-*-*-*-*-*-*-*-*-*-*-*-*-*-*-*-*-*-*-*-*-*-*-*-*-*-*-*-*-*-*-*-*-*-*-*-*-*-*-*-*-*-*-*-*-*-*-*-*-*-*-*-*-*-*-*-*-*-*-*-*-*-*-*-*-*-*-*-*-*-*-*-*-*-*-*-*-*-*-*-*-*-*-*-*-*-*-*-*-*-*-*-*-*\n",
      "====================================================================================================\n",
      "YEAR :  2009\n",
      "Target : clearsky_dhi\n",
      "____________________________________________________________________________________________________\n",
      "Trian : (140160, 36) (140160,)\n",
      "Valid : (17520, 36) (17520,)\n",
      "TMP MSE 24.152635105248077\n",
      "MSE : 217.3737159472327\n",
      "LB MSE : 84.20345351478105\n",
      "====================================================================================================\n",
      "YEAR :  2009\n",
      "Target : clearsky_dni\n",
      "____________________________________________________________________________________________________\n",
      "Trian : (140160, 36) (140160,)\n",
      "Valid : (17520, 36) (17520,)\n",
      "TMP MSE 135.3606979372188\n",
      "MSE : 1218.246281434969\n",
      "LB MSE : 826.3536604885472\n",
      "====================================================================================================\n",
      "YEAR :  2009\n",
      "Target : clearsky_ghi\n",
      "____________________________________________________________________________________________________\n",
      "Trian : (140160, 36) (140160,)\n",
      "Valid : (17520, 36) (17520,)\n",
      "TMP MSE 3.4655828013501986\n",
      "MSE : 31.190245212151787\n",
      "LB MSE : 17.527121863312562\n",
      "OOFS MSE MEAN 488.93674753145115\n",
      "OOFS LB MSE MEAN 309.36141195554694\n",
      "=*=*=*=*=*=*=*=*=*=*=*=*=*=*=*=*=*=*=*=*=*=*=*=*=*=*=*=*=*=*=*=*=*=*=*=*=*=*=*=*=*=*=*=*=*=*=*=*=*=*=*=*=*=*=*=*=*=*=*=*=*=*=*=*=*=*=*=*=*=*=*=*=*=*=*=*=*=*=*=*=*=*=*=*=*=*=*=*=*=*=*=*=*=*=*=*=*=*=*=*\n",
      "Year : 2010\n",
      "-*-*-*-*-*-*-*-*-*-*-*-*-*-*-*-*-*-*-*-*-*-*-*-*-*-*-*-*-*-*-*-*-*-*-*-*-*-*-*-*-*-*-*-*-*-*-*-*-*-*-*-*-*-*-*-*-*-*-*-*-*-*-*-*-*-*-*-*-*-*-*-*-*-*-*-*-*-*-*-*-*-*-*-*-*-*-*-*-*-*-*-*-*-*-*-*-*-*-*-*\n",
      "====================================================================================================\n",
      "YEAR :  2010\n",
      "Target : clearsky_dhi\n",
      "____________________________________________________________________________________________________\n",
      "Trian : (140160, 36) (140160,)\n",
      "Valid : (17520, 36) (17520,)\n",
      "TMP MSE 25.963462309971824\n",
      "MSE : 233.6711607897464\n",
      "LB MSE : 101.8308815837534\n",
      "====================================================================================================\n",
      "YEAR :  2010\n",
      "Target : clearsky_dni\n",
      "____________________________________________________________________________________________________\n",
      "Trian : (140160, 36) (140160,)\n",
      "Valid : (17520, 36) (17520,)\n",
      "TMP MSE 138.02036500227285\n",
      "MSE : 1242.1832850204557\n",
      "LB MSE : 909.5066278909552\n",
      "====================================================================================================\n",
      "YEAR :  2010\n",
      "Target : clearsky_ghi\n",
      "____________________________________________________________________________________________________\n",
      "Trian : (140160, 36) (140160,)\n",
      "Valid : (17520, 36) (17520,)\n",
      "TMP MSE 3.8704116319180453\n",
      "MSE : 34.83370468726241\n",
      "LB MSE : 20.24375346847801\n",
      "OOFS MSE MEAN 503.56271683248815\n",
      "OOFS LB MSE MEAN 343.8604209810622\n",
      "=*=*=*=*=*=*=*=*=*=*=*=*=*=*=*=*=*=*=*=*=*=*=*=*=*=*=*=*=*=*=*=*=*=*=*=*=*=*=*=*=*=*=*=*=*=*=*=*=*=*=*=*=*=*=*=*=*=*=*=*=*=*=*=*=*=*=*=*=*=*=*=*=*=*=*=*=*=*=*=*=*=*=*=*=*=*=*=*=*=*=*=*=*=*=*=*=*=*=*=*\n",
      "Year : 2012\n",
      "-*-*-*-*-*-*-*-*-*-*-*-*-*-*-*-*-*-*-*-*-*-*-*-*-*-*-*-*-*-*-*-*-*-*-*-*-*-*-*-*-*-*-*-*-*-*-*-*-*-*-*-*-*-*-*-*-*-*-*-*-*-*-*-*-*-*-*-*-*-*-*-*-*-*-*-*-*-*-*-*-*-*-*-*-*-*-*-*-*-*-*-*-*-*-*-*-*-*-*-*\n",
      "====================================================================================================\n",
      "YEAR :  2012\n",
      "Target : clearsky_dhi\n",
      "____________________________________________________________________________________________________\n",
      "Trian : (140160, 36) (140160,)\n",
      "Valid : (17520, 36) (17520,)\n",
      "TMP MSE 25.566472723244942\n",
      "MSE : 230.09825450920448\n",
      "LB MSE : 129.87186146015162\n",
      "====================================================================================================\n",
      "YEAR :  2012\n",
      "Target : clearsky_dni\n",
      "____________________________________________________________________________________________________\n",
      "Trian : (140160, 36) (140160,)\n",
      "Valid : (17520, 36) (17520,)\n",
      "TMP MSE 147.14309185644478\n",
      "MSE : 1324.287826708003\n",
      "LB MSE : 1134.4433227578338\n",
      "====================================================================================================\n",
      "YEAR :  2012\n",
      "Target : clearsky_ghi\n",
      "____________________________________________________________________________________________________\n",
      "Trian : (140160, 36) (140160,)\n",
      "Valid : (17520, 36) (17520,)\n",
      "TMP MSE 4.116394992918766\n",
      "MSE : 37.047554936268895\n",
      "LB MSE : 23.683709955564716\n",
      "OOFS MSE MEAN 530.4778787178254\n",
      "OOFS LB MSE MEAN 429.33296472451667\n",
      "=*=*=*=*=*=*=*=*=*=*=*=*=*=*=*=*=*=*=*=*=*=*=*=*=*=*=*=*=*=*=*=*=*=*=*=*=*=*=*=*=*=*=*=*=*=*=*=*=*=*=*=*=*=*=*=*=*=*=*=*=*=*=*=*=*=*=*=*=*=*=*=*=*=*=*=*=*=*=*=*=*=*=*=*=*=*=*=*=*=*=*=*=*=*=*=*=*=*=*=*\n",
      "Year : 2013\n",
      "-*-*-*-*-*-*-*-*-*-*-*-*-*-*-*-*-*-*-*-*-*-*-*-*-*-*-*-*-*-*-*-*-*-*-*-*-*-*-*-*-*-*-*-*-*-*-*-*-*-*-*-*-*-*-*-*-*-*-*-*-*-*-*-*-*-*-*-*-*-*-*-*-*-*-*-*-*-*-*-*-*-*-*-*-*-*-*-*-*-*-*-*-*-*-*-*-*-*-*-*\n",
      "====================================================================================================\n",
      "YEAR :  2013\n",
      "Target : clearsky_dhi\n",
      "____________________________________________________________________________________________________\n",
      "Trian : (140160, 36) (140160,)\n",
      "Valid : (17520, 36) (17520,)\n",
      "TMP MSE 20.609382438425484\n",
      "MSE : 185.48444194582936\n",
      "LB MSE : 82.4942632130194\n",
      "====================================================================================================\n",
      "YEAR :  2013\n",
      "Target : clearsky_dni\n",
      "____________________________________________________________________________________________________\n",
      "Trian : (140160, 36) (140160,)\n",
      "Valid : (17520, 36) (17520,)\n",
      "TMP MSE 128.3796578917094\n",
      "MSE : 1155.4169210253845\n",
      "LB MSE : 775.3046901833932\n",
      "====================================================================================================\n",
      "YEAR :  2013\n",
      "Target : clearsky_ghi\n",
      "____________________________________________________________________________________________________\n",
      "Trian : (140160, 36) (140160,)\n",
      "Valid : (17520, 36) (17520,)\n",
      "TMP MSE 3.299652210873988\n",
      "MSE : 29.69686989786589\n",
      "LB MSE : 16.99549775574159\n",
      "OOFS MSE MEAN 456.8660776230265\n",
      "OOFS LB MSE MEAN 291.5981503840514\n",
      "=*=*=*=*=*=*=*=*=*=*=*=*=*=*=*=*=*=*=*=*=*=*=*=*=*=*=*=*=*=*=*=*=*=*=*=*=*=*=*=*=*=*=*=*=*=*=*=*=*=*=*=*=*=*=*=*=*=*=*=*=*=*=*=*=*=*=*=*=*=*=*=*=*=*=*=*=*=*=*=*=*=*=*=*=*=*=*=*=*=*=*=*=*=*=*=*=*=*=*=*\n",
      "Year : 2014\n",
      "-*-*-*-*-*-*-*-*-*-*-*-*-*-*-*-*-*-*-*-*-*-*-*-*-*-*-*-*-*-*-*-*-*-*-*-*-*-*-*-*-*-*-*-*-*-*-*-*-*-*-*-*-*-*-*-*-*-*-*-*-*-*-*-*-*-*-*-*-*-*-*-*-*-*-*-*-*-*-*-*-*-*-*-*-*-*-*-*-*-*-*-*-*-*-*-*-*-*-*-*\n",
      "====================================================================================================\n",
      "YEAR :  2014\n",
      "Target : clearsky_dhi\n",
      "____________________________________________________________________________________________________\n",
      "Trian : (140160, 36) (140160,)\n",
      "Valid : (17520, 36) (17520,)\n",
      "TMP MSE 24.162577103131923\n",
      "MSE : 217.4631939281873\n",
      "LB MSE : 73.91180591146117\n",
      "====================================================================================================\n",
      "YEAR :  2014\n",
      "Target : clearsky_dni\n",
      "____________________________________________________________________________________________________\n",
      "Trian : (140160, 36) (140160,)\n",
      "Valid : (17520, 36) (17520,)\n",
      "TMP MSE 139.67899804853602\n",
      "MSE : 1257.110982436824\n",
      "LB MSE : 902.5198613566196\n",
      "====================================================================================================\n",
      "YEAR :  2014\n",
      "Target : clearsky_ghi\n",
      "____________________________________________________________________________________________________\n",
      "Trian : (140160, 36) (140160,)\n",
      "Valid : (17520, 36) (17520,)\n",
      "TMP MSE 3.830345640873308\n",
      "MSE : 34.47311076785977\n",
      "LB MSE : 19.70765546798036\n",
      "OOFS MSE MEAN 503.01576237762373\n",
      "OOFS LB MSE MEAN 332.0464409120204\n",
      "=*=*=*=*=*=*=*=*=*=*=*=*=*=*=*=*=*=*=*=*=*=*=*=*=*=*=*=*=*=*=*=*=*=*=*=*=*=*=*=*=*=*=*=*=*=*=*=*=*=*=*=*=*=*=*=*=*=*=*=*=*=*=*=*=*=*=*=*=*=*=*=*=*=*=*=*=*=*=*=*=*=*=*=*=*=*=*=*=*=*=*=*=*=*=*=*=*=*=*=*\n",
      "Year : 2015\n",
      "-*-*-*-*-*-*-*-*-*-*-*-*-*-*-*-*-*-*-*-*-*-*-*-*-*-*-*-*-*-*-*-*-*-*-*-*-*-*-*-*-*-*-*-*-*-*-*-*-*-*-*-*-*-*-*-*-*-*-*-*-*-*-*-*-*-*-*-*-*-*-*-*-*-*-*-*-*-*-*-*-*-*-*-*-*-*-*-*-*-*-*-*-*-*-*-*-*-*-*-*\n",
      "====================================================================================================\n",
      "YEAR :  2015\n",
      "Target : clearsky_dhi\n",
      "____________________________________________________________________________________________________\n",
      "Trian : (140160, 36) (140160,)\n",
      "Valid : (17520, 36) (17520,)\n",
      "TMP MSE 20.537638931863803\n",
      "MSE : 184.83875038677422\n",
      "LB MSE : 82.0297531279057\n",
      "====================================================================================================\n",
      "YEAR :  2015\n",
      "Target : clearsky_dni\n",
      "____________________________________________________________________________________________________\n",
      "Trian : (140160, 36) (140160,)\n",
      "Valid : (17520, 36) (17520,)\n",
      "TMP MSE 117.93728977278076\n",
      "MSE : 1061.4356079550269\n",
      "LB MSE : 789.160919002567\n",
      "====================================================================================================\n",
      "YEAR :  2015\n",
      "Target : clearsky_ghi\n",
      "____________________________________________________________________________________________________\n",
      "Trian : (140160, 36) (140160,)\n",
      "Valid : (17520, 36) (17520,)\n",
      "TMP MSE 3.294341944500558\n",
      "MSE : 29.649077500505022\n",
      "LB MSE : 16.105315861657118\n",
      "OOFS MSE MEAN 425.3078119474353\n",
      "OOFS LB MSE MEAN 295.7653293307099\n",
      "=*=*=*=*=*=*=*=*=*=*=*=*=*=*=*=*=*=*=*=*=*=*=*=*=*=*=*=*=*=*=*=*=*=*=*=*=*=*=*=*=*=*=*=*=*=*=*=*=*=*=*=*=*=*=*=*=*=*=*=*=*=*=*=*=*=*=*=*=*=*=*=*=*=*=*=*=*=*=*=*=*=*=*=*=*=*=*=*=*=*=*=*=*=*=*=*=*=*=*=*\n",
      "Year : 2016\n",
      "-*-*-*-*-*-*-*-*-*-*-*-*-*-*-*-*-*-*-*-*-*-*-*-*-*-*-*-*-*-*-*-*-*-*-*-*-*-*-*-*-*-*-*-*-*-*-*-*-*-*-*-*-*-*-*-*-*-*-*-*-*-*-*-*-*-*-*-*-*-*-*-*-*-*-*-*-*-*-*-*-*-*-*-*-*-*-*-*-*-*-*-*-*-*-*-*-*-*-*-*\n",
      "====================================================================================================\n",
      "YEAR :  2016\n",
      "Target : clearsky_dhi\n",
      "____________________________________________________________________________________________________\n",
      "Trian : (140160, 36) (140160,)\n",
      "Valid : (17520, 36) (17520,)\n",
      "TMP MSE 22.57862735576844\n",
      "MSE : 203.20764620191596\n",
      "LB MSE : 84.1032685069043\n",
      "====================================================================================================\n",
      "YEAR :  2016\n",
      "Target : clearsky_dni\n",
      "____________________________________________________________________________________________________\n",
      "Trian : (140160, 36) (140160,)\n",
      "Valid : (17520, 36) (17520,)\n",
      "TMP MSE 138.45302486904626\n",
      "MSE : 1246.0772238214163\n",
      "LB MSE : 979.6373903552064\n",
      "====================================================================================================\n",
      "YEAR :  2016\n",
      "Target : clearsky_ghi\n",
      "____________________________________________________________________________________________________\n",
      "Trian : (140160, 36) (140160,)\n",
      "Valid : (17520, 36) (17520,)\n",
      "TMP MSE 3.664638088504025\n",
      "MSE : 32.981742796536224\n",
      "LB MSE : 22.725337783368897\n",
      "OOFS MSE MEAN 494.08887093995617\n",
      "OOFS LB MSE MEAN 362.15533221515983\n",
      "=*=*=*=*=*=*=*=*=*=*=*=*=*=*=*=*=*=*=*=*=*=*=*=*=*=*=*=*=*=*=*=*=*=*=*=*=*=*=*=*=*=*=*=*=*=*=*=*=*=*=*=*=*=*=*=*=*=*=*=*=*=*=*=*=*=*=*=*=*=*=*=*=*=*=*=*=*=*=*=*=*=*=*=*=*=*=*=*=*=*=*=*=*=*=*=*=*=*=*=*\n",
      "Year : 2017\n",
      "-*-*-*-*-*-*-*-*-*-*-*-*-*-*-*-*-*-*-*-*-*-*-*-*-*-*-*-*-*-*-*-*-*-*-*-*-*-*-*-*-*-*-*-*-*-*-*-*-*-*-*-*-*-*-*-*-*-*-*-*-*-*-*-*-*-*-*-*-*-*-*-*-*-*-*-*-*-*-*-*-*-*-*-*-*-*-*-*-*-*-*-*-*-*-*-*-*-*-*-*\n",
      "====================================================================================================\n",
      "YEAR :  2017\n",
      "Target : clearsky_dhi\n",
      "____________________________________________________________________________________________________\n",
      "Trian : (140160, 36) (140160,)\n",
      "Valid : (17520, 36) (17520,)\n",
      "TMP MSE 28.724539419442063\n",
      "MSE : 258.52085477497855\n",
      "LB MSE : 84.64897436270516\n",
      "====================================================================================================\n",
      "YEAR :  2017\n",
      "Target : clearsky_dni\n",
      "____________________________________________________________________________________________________\n",
      "Trian : (140160, 36) (140160,)\n",
      "Valid : (17520, 36) (17520,)\n",
      "TMP MSE 143.3851546203892\n",
      "MSE : 1290.4663915835029\n",
      "LB MSE : 931.1434249731931\n",
      "====================================================================================================\n",
      "YEAR :  2017\n",
      "Target : clearsky_ghi\n",
      "____________________________________________________________________________________________________\n",
      "Trian : (140160, 36) (140160,)\n",
      "Valid : (17520, 36) (17520,)\n",
      "TMP MSE 4.214051311319396\n",
      "MSE : 37.92646180187456\n",
      "LB MSE : 20.34906134954829\n",
      "OOFS MSE MEAN 528.971236053452\n",
      "OOFS LB MSE MEAN 345.38048689514886\n",
      "=*=*=*=*=*=*=*=*=*=*=*=*=*=*=*=*=*=*=*=*=*=*=*=*=*=*=*=*=*=*=*=*=*=*=*=*=*=*=*=*=*=*=*=*=*=*=*=*=*=*=*=*=*=*=*=*=*=*=*=*=*=*=*=*=*=*=*=*=*=*=*=*=*=*=*=*=*=*=*=*=*=*=*=*=*=*=*=*=*=*=*=*=*=*=*=*=*=*=*=*\n",
      "Year : 2018\n",
      "-*-*-*-*-*-*-*-*-*-*-*-*-*-*-*-*-*-*-*-*-*-*-*-*-*-*-*-*-*-*-*-*-*-*-*-*-*-*-*-*-*-*-*-*-*-*-*-*-*-*-*-*-*-*-*-*-*-*-*-*-*-*-*-*-*-*-*-*-*-*-*-*-*-*-*-*-*-*-*-*-*-*-*-*-*-*-*-*-*-*-*-*-*-*-*-*-*-*-*-*\n",
      "====================================================================================================\n",
      "YEAR :  2018\n",
      "Target : clearsky_dhi\n",
      "____________________________________________________________________________________________________\n",
      "Trian : (140160, 36) (140160,)\n",
      "Valid : (17520, 36) (17520,)\n",
      "TMP MSE 18.3004658809107\n",
      "MSE : 164.7041929281963\n",
      "LB MSE : 87.30878678278711\n",
      "====================================================================================================\n",
      "YEAR :  2018\n",
      "Target : clearsky_dni\n",
      "____________________________________________________________________________________________________\n",
      "Trian : (140160, 36) (140160,)\n",
      "Valid : (17520, 36) (17520,)\n",
      "TMP MSE 126.00539430590202\n",
      "MSE : 1134.0485487531182\n",
      "LB MSE : 1031.2889064086394\n",
      "====================================================================================================\n",
      "YEAR :  2018\n",
      "Target : clearsky_ghi\n",
      "____________________________________________________________________________________________________\n",
      "Trian : (140160, 36) (140160,)\n",
      "Valid : (17520, 36) (17520,)\n",
      "TMP MSE 3.6235269449021144\n",
      "MSE : 32.61174250411903\n",
      "LB MSE : 22.682230840531883\n",
      "OOFS MSE MEAN 443.7881613951445\n",
      "OOFS LB MSE MEAN 380.42664134398615\n",
      "FINAL MAE 486.11280704648925\n",
      "FINAL LB MAE 343.3252420824669\n"
     ]
    }
   ],
   "source": [
    "score, lb_score, oofs_predict_dict_final, test_predict_dict_final = run_lgbm_years(d_train_df, d_test_df, train_cols, target_cols)"
   ]
  },
  {
   "cell_type": "code",
   "execution_count": 35,
   "id": "5e707c87",
   "metadata": {
    "execution": {
     "iopub.execute_input": "2022-02-14T10:05:38.268375Z",
     "iopub.status.busy": "2022-02-14T10:05:38.267641Z",
     "iopub.status.idle": "2022-02-14T10:05:38.396976Z",
     "shell.execute_reply": "2022-02-14T10:05:38.395744Z",
     "shell.execute_reply.started": "2022-02-14T10:03:02.067661Z"
    },
    "papermill": {
     "duration": 0.193908,
     "end_time": "2022-02-14T10:05:38.397144",
     "exception": false,
     "start_time": "2022-02-14T10:05:38.203236",
     "status": "completed"
    },
    "tags": []
   },
   "outputs": [],
   "source": [
    "#test_mean = np.array(list(test_predict_dict_final.values())).mean(axis=0).T.reshape(10, 17520, 3).mean(axis=0)\n",
    "test_mean = np.array(list(test_predict_dict_final.values())).mean(axis=0).T.reshape(9, 17520, 3).mean(axis=0)\n",
    "\n",
    "test_df[['clearsky_dhi', 'clearsky_dni', 'clearsky_ghi']] = test_mean\n",
    "test_df.loc[test_df['solar_zenith_angle'] > 93][['clearsky_dhi', 'clearsky_dni', 'clearsky_ghi']] = 0\n",
    "test_df.loc[test_df.hour.isin([i for i in range(1, 11)]), ['clearsky_dhi', 'clearsky_dni', 'clearsky_ghi']] = 0\n",
    "test_df[['clearsky_dhi', 'clearsky_dni', 'clearsky_ghi']] = np.clip(test_df[['clearsky_dhi', 'clearsky_dni', 'clearsky_ghi']], a_min=0, a_max=None)\n",
    "\n",
    "ss_df[['Clearsky DHI', 'Clearsky DNI', 'Clearsky GHI']] = test_df[['clearsky_dhi', 'clearsky_dni', 'clearsky_ghi']]\n",
    "\n",
    "ss_df.to_csv(\"submissions/cat_mr_lgb_drop2011_stack_v5.csv\", index=False)"
   ]
  },
  {
   "cell_type": "code",
   "execution_count": null,
   "id": "7c627f27",
   "metadata": {
    "papermill": {
     "duration": 0.055592,
     "end_time": "2022-02-14T10:05:39.188551",
     "exception": false,
     "start_time": "2022-02-14T10:05:39.132959",
     "status": "completed"
    },
    "tags": []
   },
   "outputs": [],
   "source": []
  }
 ],
 "metadata": {
  "kernelspec": {
   "display_name": "Python 3",
   "language": "python",
   "name": "python3"
  },
  "language_info": {
   "codemirror_mode": {
    "name": "ipython",
    "version": 3
   },
   "file_extension": ".py",
   "mimetype": "text/x-python",
   "name": "python",
   "nbconvert_exporter": "python",
   "pygments_lexer": "ipython3",
   "version": "3.8.10"
  },
  "papermill": {
   "default_parameters": {},
   "duration": 65.195988,
   "end_time": "2022-02-14T10:05:40.156954",
   "environment_variables": {},
   "exception": null,
   "input_path": "__notebook__.ipynb",
   "output_path": "__notebook__.ipynb",
   "parameters": {},
   "start_time": "2022-02-14T10:04:34.960966",
   "version": "2.3.3"
  }
 },
 "nbformat": 4,
 "nbformat_minor": 5
}
